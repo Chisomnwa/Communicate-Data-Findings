{
 "cells": [
  {
   "cell_type": "markdown",
   "id": "7c698cc8",
   "metadata": {},
   "source": [
    "# Telecom Customer Churn Data Exploration\n",
    "\n",
    "## by Nnamani Chisom Promise\n",
    "\n",
    "## Dataset\n",
    "\n",
    "This dataset contains 3333 rows representing each customer, with 11 features or variables.\n",
    "\n",
    "8 of the features which include (account_weeks, data_usage, customer_service_calls, day_mins, day_calls, monthly_charge, overage_fee. roam_mins) are numerical data types, while the other 3 which are (churn, contract_renewal, and data plan) are in categorical data type.\n",
    "\n",
    "This dataset was sourced from Kaggle and can be obtained via this [link](https://www.kaggle.com/datasets/barun2104/telecom-churn)"
   ]
  },
  {
   "cell_type": "markdown",
   "id": "c6da60d4",
   "metadata": {},
   "source": [
    "## Metadata\n",
    "\n",
    "\n",
    " - **Churn:** 1 if customer cancelled service, 0 if not\n",
    " \n",
    " \n",
    " - **AccountWeeks:** number of weeks customer has had active account\n",
    " \n",
    " \n",
    " - **ContractRenewal:** 1 if customer recently renewed contract, 0 if not\n",
    " \n",
    " \n",
    " - **DataPlan:** 1 if customer has data plan, 0 if not\n",
    " \n",
    "\n",
    " - **DataUsage:** gigabytes of monthly data usage\n",
    " \n",
    "\n",
    " - **CustServCalls:** number of calls into customer service\n",
    " \n",
    "\n",
    " - **DayMins:** average daytime minutes per month\n",
    " \n",
    "\n",
    " - **DayCalls:** average number of daytime calls\n",
    " \n",
    "\n",
    " - **MonthlyCharge:** average monthly bill\n",
    " \n",
    "\n",
    " - **OverageFee:** largest overage fee in last 12 months\n",
    " \n",
    "\n",
    " - **RoamMins:** average number of roaming minutes"
   ]
  },
  {
   "cell_type": "markdown",
   "id": "ce7b657f",
   "metadata": {},
   "source": [
    "I changed all the column names to lowercase and used underscore to seperate athe column names that were made up of more than two words. This was done for easy accessing of the columns when coding.\n",
    "\n",
    "I changed the  data type of Churn, Contract renewal and Data plan to cataegorical data types."
   ]
  },
  {
   "cell_type": "markdown",
   "id": "b0913a7e",
   "metadata": {},
   "source": [
    "## Summary of Findings\n",
    "\n",
    "\n",
    "In the exploration, I found that data plan and contract renewal feature helped more in predicting if the customers will stay with the company or not.\n",
    "\n",
    "Via a heatmap between churn and data plan, I found out that more customers who had no data plan were lost by the company.\n",
    "about 80(8.5%) of their customers who had data plans were still lost by the company. But a higher percentage of 403(16.7%) who did not have data plan were lost by the company.\n",
    "\n",
    "I also found out that with some of the customers having no data plan, it resulted to most of them having 0 data usage. A boxplot was used to visualize this and it showed a linear relationship between data plan and data usage.\n",
    "\n",
    "There is also a positive relationship between the average daytime minutes per month and the monthly charge. Here we can additionally observe one surprising fact. Almost all customers with a monthly charge between 60 and 80 and average daytime minutes per month above 200 left the company.\n",
    "\n",
    "It was surprising to find out that the customers who have data plan with high data usage later decided to quit the company services. Why? It might be that the monthly charge for the particular data plan they were on was quiet high. So I suggested that maybe a friendly data plan can help make them stay with the company."
   ]
  },
  {
   "cell_type": "markdown",
   "id": "3fa6b8f5",
   "metadata": {},
   "source": [
    "## Key Insights for Presentation\n",
    "\n",
    "For the presentation, I focus on the influence of influence of categorical variables (data plan and contract renewal) and how numeric features (data usage, monthly charge, and customer service calls) predict customer churn.\n",
    "\n",
    "I start by introducing the distribution of each of these variables, with Churn and the other two categorical variables leading.\n",
    "\n",
    "Afterwards, I then introduced how Data plan and Contract renewal predicts customer churn. I also looked at how data plan and contract renewal correlates with each other using a heatmap.\n",
    "\n",
    "Then because churn is the tarhet variable, I looked at how other features that I already mentioned above that I would be focusing on affects customer churn."
   ]
  },
  {
   "cell_type": "code",
   "execution_count": null,
   "id": "13a5e7f7",
   "metadata": {},
   "outputs": [],
   "source": []
  }
 ],
 "metadata": {
  "kernelspec": {
   "display_name": "Python [conda env:StarNPMS] *",
   "language": "python",
   "name": "conda-env-StarNPMS-py"
  },
  "language_info": {
   "codemirror_mode": {
    "name": "ipython",
    "version": 3
   },
   "file_extension": ".py",
   "mimetype": "text/x-python",
   "name": "python",
   "nbconvert_exporter": "python",
   "pygments_lexer": "ipython3",
   "version": "3.9.12"
  },
  "toc": {
   "base_numbering": 1,
   "nav_menu": {},
   "number_sections": true,
   "sideBar": true,
   "skip_h1_title": false,
   "title_cell": "Table of Contents",
   "title_sidebar": "Contents",
   "toc_cell": false,
   "toc_position": {},
   "toc_section_display": true,
   "toc_window_display": false
  },
  "varInspector": {
   "cols": {
    "lenName": 16,
    "lenType": 16,
    "lenVar": 40
   },
   "kernels_config": {
    "python": {
     "delete_cmd_postfix": "",
     "delete_cmd_prefix": "del ",
     "library": "var_list.py",
     "varRefreshCmd": "print(var_dic_list())"
    },
    "r": {
     "delete_cmd_postfix": ") ",
     "delete_cmd_prefix": "rm(",
     "library": "var_list.r",
     "varRefreshCmd": "cat(var_dic_list()) "
    }
   },
   "types_to_exclude": [
    "module",
    "function",
    "builtin_function_or_method",
    "instance",
    "_Feature"
   ],
   "window_display": false
  }
 },
 "nbformat": 4,
 "nbformat_minor": 5
}
