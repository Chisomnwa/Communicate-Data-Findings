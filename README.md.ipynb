{
 "cells": [
  {
   "cell_type": "markdown",
   "id": "7c698cc8",
   "metadata": {},
   "source": [
    "# Telecom Customer Churn Data Exploration\n",
    "\n",
    "## by Nnamani Chisom Promise\n",
    "\n",
    "## Dataset\n",
    "\n",
    "This dataset contains 3333 rows representing each customer, with 11 features or variables.\n",
    "\n",
    "8 of the features which include (account_weeks, data_usage, customer_service_calls, day_mins, day_calls, monthly_charge, overage_fee. roam_mins) are numerical data types, while the other 3 which are (churn, contract_renewal, and data plan) are in categorical data type.\n",
    "\n",
    "This dataset was sourced from Kaggle and can be obtained via this [link](https://www.kaggle.com/datasets/barun2104/telecom-churn)"
   ]
  },
  {
   "cell_type": "markdown",
   "id": "c6da60d4",
   "metadata": {},
   "source": [
    "## Metadata\n",
    "\n",
    "\n",
    " - **Churn:** 1 if customer cancelled service, 0 if not\n",
    " \n",
    " \n",
    " - **AccountWeeks:** number of weeks customer has had active account\n",
    " \n",
    " \n",
    " - **ContractRenewal:** 1 if customer recently renewed contract, 0 if not\n",
    " \n",
    " \n",
    " - **DataPlan:** 1 if customer has data plan, 0 if not\n",
    " \n",
    "\n",
    " - **DataUsage:** gigabytes of monthly data usage\n",
    " \n",
    "\n",
    " - **CustServCalls:** number of calls into customer service\n",
    " \n",
    "\n",
    " - **DayMins:** average daytime minutes per month\n",
    " \n",
    "\n",
    " - **DayCalls:** average number of daytime calls\n",
    " \n",
    "\n",
    " - **MonthlyCharge:** average monthly bill\n",
    " \n",
    "\n",
    " - **OverageFee:** largest overage fee in last 12 months\n",
    " \n",
    "\n",
    " - **RoamMins:** average number of roaming minutes"
   ]
  },
  {
   "cell_type": "markdown",
   "id": "ce7b657f",
   "metadata": {},
   "source": [
    "I changed all the column names to lowercase and used underscore to seperate athe column names that were made up of more than two words. This was done for easy accessing of the columns when coding.\n",
    "\n",
    "I changed the  data type of Churn, Contract renewal and Data plan to cataegorical data types."
   ]
  },
  {
   "cell_type": "markdown",
   "id": "b0913a7e",
   "metadata": {},
   "source": [
    "## Summary of Findings\n",
    "\n",
    "\n",
    "In the exploration, I found out that Data plan and Monthly charges features helped more in predicting if the customers will stay with the company or leave.\n",
    "\n",
    "Via a heatmap between churn and data plan, I found out that more of the customers had no data plan and were lost by the company. About 80(8.5%) of the customers had data plans but were still lost by the company. But a higher percentage of 403(16.7%) who did not have data plan left the company.\n",
    "\n",
    "Then when more customers have no data plan, it leads to them not using data from the company and will eventually make them not to renew their contracts. But, I found out that what's making them to have no data plan is high monthly charges. So the data plan isn't friendly, and I strongly suggested this should be looked into.\n",
    "\n",
    "Friendly data plans are going to make the customers buy and use more data, and it will eventually make the renew their data plans.\n",
    "\n",
    "Customer churn is also affected by Customer service calls. I noticed that the customers who made more than two customer service calls didn't recently renew their contracts. It could be that their concerns wasn't addresses in those calls or maybe it took more time for their issues to be resolved. To conclude this, I will need more data like how much time each customer spent on those calls, and if their issue was resolved after making up two two calls or not.\n",
    "\n",
    "I did suggest that immediate improvementshould be made in the quality of customer service that are being provided to the customers and the company should make sure that their issues are resolved within 1 to 2 calls."
   ]
  },
  {
   "cell_type": "markdown",
   "id": "3fa6b8f5",
   "metadata": {},
   "source": [
    "## Key Insights for Presentation\n",
    "\n",
    "For the presentation, I start by introducing the distribution of each of these variables, with Churn and the other two categorical variables leading.\n",
    "\n",
    "Afterwards, I then introduced how churn correlates with the other two categorical variables which are contract renewal and data plan. Then, I introduced how churn relates with other variables like monthly charge and data usage, and how monthly charge relates with data plan and contract renewal.\n",
    "\n",
    "Then, I went further to show how all these features affects the target variable which is customer churn."
   ]
  },
  {
   "cell_type": "code",
   "execution_count": null,
   "id": "13a5e7f7",
   "metadata": {},
   "outputs": [],
   "source": []
  }
 ],
 "metadata": {
  "kernelspec": {
   "display_name": "Python [conda env:StarNPMS] *",
   "language": "python",
   "name": "conda-env-StarNPMS-py"
  },
  "language_info": {
   "codemirror_mode": {
    "name": "ipython",
    "version": 3
   },
   "file_extension": ".py",
   "mimetype": "text/x-python",
   "name": "python",
   "nbconvert_exporter": "python",
   "pygments_lexer": "ipython3",
   "version": "3.9.12"
  },
  "toc": {
   "base_numbering": 1,
   "nav_menu": {},
   "number_sections": true,
   "sideBar": true,
   "skip_h1_title": false,
   "title_cell": "Table of Contents",
   "title_sidebar": "Contents",
   "toc_cell": false,
   "toc_position": {},
   "toc_section_display": true,
   "toc_window_display": false
  },
  "varInspector": {
   "cols": {
    "lenName": 16,
    "lenType": 16,
    "lenVar": 40
   },
   "kernels_config": {
    "python": {
     "delete_cmd_postfix": "",
     "delete_cmd_prefix": "del ",
     "library": "var_list.py",
     "varRefreshCmd": "print(var_dic_list())"
    },
    "r": {
     "delete_cmd_postfix": ") ",
     "delete_cmd_prefix": "rm(",
     "library": "var_list.r",
     "varRefreshCmd": "cat(var_dic_list()) "
    }
   },
   "types_to_exclude": [
    "module",
    "function",
    "builtin_function_or_method",
    "instance",
    "_Feature"
   ],
   "window_display": false
  }
 },
 "nbformat": 4,
 "nbformat_minor": 5
}
